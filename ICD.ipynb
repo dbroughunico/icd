{
 "cells": [
  {
   "cell_type": "code",
   "execution_count": 3,
   "metadata": {},
   "outputs": [],
   "source": [
    "# import packages\n",
    "import pandas as pd\n",
    "import numpy as np\n",
    "import csv\n",
    "import os \n",
    "import tkinter as tk\n",
    "from tkinter import simpledialog\n",
    "from ipywidgets import interactive \n",
    "\n",
    "## GUI Creation\n",
    "\n",
    "ROOT = tk.Tk()\n",
    "\n",
    "ROOT.withdraw()\n",
    "# the input dialog\n",
    "ID_INP = simpledialog.askstring(title=\"ICD\",\n",
    "                                  prompt=\"What's the 1ID of the Requirement you would like to create and ICD for?:\")\n",
    "\n",
    "####################################################\n",
    "\n",
    "## INITIALIZE DATA \n",
    "\n",
    "#initialize CP variable\n",
    "CP40 = np.array\n",
    "#extract data from CP40 csv\n",
    "with open('CP40CIL.csv', newline='') as f:\n",
    "    reader = csv.reader(f)\n",
    "    data = list(reader)\n",
    "#put data into the CP40 array\n",
    "CP40 = np.array(data,dtype=object)\n",
    "# initialize new array\n",
    "ID = np.empty([len(CP40),3],dtype=object)\n",
    "#extract first, 5th, and 8th column of the cp40 into the ID array\n",
    "ID[:,[0,1,2]] = CP40[:,[0,4,7]]\n",
    "#find where the ID that user inputted exists in the ID array\n",
    "ind = np.argwhere(ID[:,0] == ID_INP)\n",
    "ind = np.asarray(ind)\n",
    "#make a new array that will be populated and exported as the table\n",
    "new = np.empty([2,18],dtype=object)\n",
    "new[0,0:3] = ID[0,0:3]\n",
    "new[1,0:3] = ID[ind[0]]\n",
    "#################################################################\n",
    "\n",
    "## POPULATE NEW ARRAY\n",
    "\n",
    "i=3\n",
    "# set directory to be where exported files are \n",
    "my_dir = 'Design'\n",
    "# scan the directory\n",
    "for item in os.scandir(my_dir):\n",
    "    #check if it is a file\n",
    "    if item.is_file():\n",
    "        #open file\n",
    "        with open(os.path.abspath(item),newline='') as f:\n",
    "            #read data\n",
    "            reader = csv.reader(f)\n",
    "            data = list(reader)\n",
    "            data = np.array(data)\n",
    "            data_ind = np.argwhere(data[:,0] == ID_INP)\n",
    "            data_ind = np.asarray(data_ind)\n",
    "            site_name = os.path.basename(item)\n",
    "            site_name = site_name.split(\".\",1)\n",
    "            site_name = site_name[0]\n",
    "            #check if cocument exists\n",
    "            if data_ind.size != 0:\n",
    "                #copy corresponding site document to new array\n",
    "                doc_name = data[data_ind[0,0],7]\n",
    "                new[1,i] = doc_name\n",
    "        #name new column with site and reference doucment appended        \n",
    "        new[0,i] = site_name + \" Reference Document\"\n",
    "    i = i+1\n",
    "#saveas filename for the req. \n",
    "filename = \"ICD for \" + ID_INP + \" Requirement.csv\"\n",
    "                    \n",
    "#df = pd.DataFrame (new)\n",
    "\n",
    "#writer = pd.ExcelWriter(filename)\n",
    "#df.to_excel(writer, index=False, header=False, sheet_name='Sheet1', startrow=2)\n",
    "\n",
    "\n",
    "with open(filename,'w',newline = '') as file:\n",
    "    mywriter = csv.writer(file, delimiter=',')\n",
    "    mywriter.writerows(new)\n",
    "\n"
   ]
  },
  {
   "cell_type": "code",
   "execution_count": null,
   "metadata": {},
   "outputs": [
    {
     "ename": "",
     "evalue": "",
     "output_type": "error",
     "traceback": [
      "\u001b[1;31mFailed to start the Kernel. \n",
      "SyntaxError: invalid syntax. \n",
      "View Jupyter <a href='command:jupyter.viewOutput'>log</a> for further details."
     ]
    }
   ],
   "source": [
    "pip install heroku3"
   ]
  },
  {
   "cell_type": "code",
   "execution_count": null,
   "metadata": {},
   "outputs": [],
   "source": []
  }
 ],
 "metadata": {
  "interpreter": {
   "hash": "538fc63e7d632aae64835a1ee328e6b59c72f868925a555d789cd3b0b4631e27"
  },
  "kernelspec": {
   "display_name": "Python 3.7.11 64-bit ('myenv': conda)",
   "language": "python",
   "name": "python3"
  },
  "language_info": {
   "codemirror_mode": {
    "name": "ipython",
    "version": 3
   },
   "file_extension": ".py",
   "mimetype": "text/x-python",
   "name": "python",
   "nbconvert_exporter": "python",
   "pygments_lexer": "ipython3",
   "version": "3.7.11"
  },
  "orig_nbformat": 4
 },
 "nbformat": 4,
 "nbformat_minor": 2
}
