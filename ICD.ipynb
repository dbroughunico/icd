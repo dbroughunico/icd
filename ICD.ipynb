{
 "cells": [
  {
   "cell_type": "code",
   "execution_count": 2,
   "metadata": {},
   "outputs": [
    {
     "ename": "IndexError",
     "evalue": "index 0 is out of bounds for axis 0 with size 0",
     "output_type": "error",
     "traceback": [
      "\u001b[1;31m---------------------------------------------------------------------------\u001b[0m",
      "\u001b[1;31mIndexError\u001b[0m                                Traceback (most recent call last)",
      "\u001b[1;32mC:\\Users\\DOUGLA~1\\AppData\\Local\\Temp/ipykernel_23000/3765268834.py\u001b[0m in \u001b[0;36m<module>\u001b[1;34m\u001b[0m\n\u001b[0;32m     39\u001b[0m \u001b[0mnew\u001b[0m \u001b[1;33m=\u001b[0m \u001b[0mnp\u001b[0m\u001b[1;33m.\u001b[0m\u001b[0mempty\u001b[0m\u001b[1;33m(\u001b[0m\u001b[1;33m[\u001b[0m\u001b[1;36m2\u001b[0m\u001b[1;33m,\u001b[0m\u001b[1;36m18\u001b[0m\u001b[1;33m]\u001b[0m\u001b[1;33m,\u001b[0m\u001b[0mdtype\u001b[0m\u001b[1;33m=\u001b[0m\u001b[0mobject\u001b[0m\u001b[1;33m)\u001b[0m\u001b[1;33m\u001b[0m\u001b[1;33m\u001b[0m\u001b[0m\n\u001b[0;32m     40\u001b[0m \u001b[0mnew\u001b[0m\u001b[1;33m[\u001b[0m\u001b[1;36m0\u001b[0m\u001b[1;33m,\u001b[0m\u001b[1;36m0\u001b[0m\u001b[1;33m:\u001b[0m\u001b[1;36m3\u001b[0m\u001b[1;33m]\u001b[0m \u001b[1;33m=\u001b[0m \u001b[0mID\u001b[0m\u001b[1;33m[\u001b[0m\u001b[1;36m0\u001b[0m\u001b[1;33m,\u001b[0m\u001b[1;36m0\u001b[0m\u001b[1;33m:\u001b[0m\u001b[1;36m3\u001b[0m\u001b[1;33m]\u001b[0m\u001b[1;33m\u001b[0m\u001b[1;33m\u001b[0m\u001b[0m\n\u001b[1;32m---> 41\u001b[1;33m \u001b[0mnew\u001b[0m\u001b[1;33m[\u001b[0m\u001b[1;36m1\u001b[0m\u001b[1;33m,\u001b[0m\u001b[1;36m0\u001b[0m\u001b[1;33m:\u001b[0m\u001b[1;36m3\u001b[0m\u001b[1;33m]\u001b[0m \u001b[1;33m=\u001b[0m \u001b[0mID\u001b[0m\u001b[1;33m[\u001b[0m\u001b[0mind\u001b[0m\u001b[1;33m[\u001b[0m\u001b[1;36m0\u001b[0m\u001b[1;33m]\u001b[0m\u001b[1;33m]\u001b[0m\u001b[1;33m\u001b[0m\u001b[1;33m\u001b[0m\u001b[0m\n\u001b[0m\u001b[0;32m     42\u001b[0m \u001b[1;31m#################################################################\u001b[0m\u001b[1;33m\u001b[0m\u001b[1;33m\u001b[0m\u001b[1;33m\u001b[0m\u001b[0m\n\u001b[0;32m     43\u001b[0m \u001b[1;33m\u001b[0m\u001b[0m\n",
      "\u001b[1;31mIndexError\u001b[0m: index 0 is out of bounds for axis 0 with size 0"
     ]
    }
   ],
   "source": [
    "# import packages\n",
    "import pandas as pd\n",
    "import numpy as np\n",
    "import csv\n",
    "import os \n",
    "import tkinter as tk\n",
    "from tkinter import simpledialog\n",
    "from ipywidgets import interactive \n",
    "\n",
    "## GUI Creation\n",
    "\n",
    "ROOT = tk.Tk()\n",
    "\n",
    "ROOT.withdraw()\n",
    "# the input dialog\n",
    "ID_INP = simpledialog.askstring(title=\"ICD\",\n",
    "                                  prompt=\"What's the 1ID of the Requirement you would like to create and ICD for?:\")\n",
    "\n",
    "####################################################\n",
    "\n",
    "## INITIALIZE DATA \n",
    "\n",
    "#initialize CP variable\n",
    "CP40 = np.array\n",
    "#extract data from CP40 csv\n",
    "with open('CP40CIL.csv', newline='') as f:\n",
    "    reader = csv.reader(f)\n",
    "    data = list(reader)\n",
    "#put data into the CP40 array\n",
    "CP40 = np.array(data,dtype=object)\n",
    "# initialize new array\n",
    "ID = np.empty([len(CP40),3],dtype=object)\n",
    "#extract first, 5th, and 8th column of the cp40 into the ID array\n",
    "ID[:,[0,1,2]] = CP40[:,[0,4,7]]\n",
    "#find where the ID that user inputted exists in the ID array\n",
    "ind = np.argwhere(ID[:,0] == ID_INP)\n",
    "ind = np.asarray(ind)\n",
    "#make a new array that will be populated and exported as the table\n",
    "new = np.empty([2,18],dtype=object)\n",
    "new[0,0:3] = ID[0,0:3]\n",
    "new[1,0:3] = ID[ind[0]]\n",
    "#################################################################\n",
    "\n",
    "## POPULATE NEW ARRAY\n",
    "\n",
    "i=3\n",
    "# set directory to be where exported files are \n",
    "my_dir = 'Design'\n",
    "# scan the directory\n",
    "for item in os.scandir(my_dir):\n",
    "    #check if it is a file\n",
    "    if item.is_file():\n",
    "        #open file\n",
    "        with open(os.path.abspath(item),newline='') as f:\n",
    "            #read data\n",
    "            reader = csv.reader(f)\n",
    "            data = list(reader)\n",
    "            data = np.array(data)\n",
    "            data_ind = np.argwhere(data[:,0] == ID_INP)\n",
    "            data_ind = np.asarray(data_ind)\n",
    "            site_name = os.path.basename(item)\n",
    "            site_name = site_name.split(\".\",1)\n",
    "            site_name = site_name[0]\n",
    "            #check if cocument exists\n",
    "            if data_ind.size != 0:\n",
    "                #copy corresponding site document to new array\n",
    "                doc_name = data[data_ind[0,0],7]\n",
    "                new[1,i] = doc_name\n",
    "        #name new column with site and reference doucment appended        \n",
    "        new[0,i] = site_name + \" Reference Document\"\n",
    "    i = i+1\n",
    "#saveas filename for the req. \n",
    "filename = \"ICD for \" + ID_INP + \" Requirement.xlsx\"\n",
    "                    \n",
    "df = pd.DataFrame (new)\n",
    "\n",
    "writer = pd.ExcelWriter(filename)\n",
    "df.to_excel(writer, index=False, header=False, sheet_name='Sheet1', startrow=2)\n",
    "\n",
    "\n",
    "#with open(filename,'w',newline = '') as file:\n",
    "#    mywriter = csv.writer(file, delimiter=',')\n",
    "#    mywriter.writerows(new)\n",
    "\n"
   ]
  },
  {
   "cell_type": "code",
   "execution_count": 1,
   "metadata": {},
   "outputs": [
    {
     "name": "stdout",
     "output_type": "stream",
     "text": [
      "Collecting voila\n",
      "  Downloading voila-0.3.0-py3-none-any.whl (1.7 MB)\n",
      "Collecting jupyter-server<2.0.0,>=0.3.0\n",
      "  Downloading jupyter_server-1.13.2-py3-none-any.whl (395 kB)\n",
      "Requirement already satisfied: jupyter-client<8,>=6.1.3 in c:\\users\\douglas brough\\miniconda3\\envs\\myenv\\lib\\site-packages (from voila) (7.0.1)\n",
      "Requirement already satisfied: nbconvert<7,>=6.0.0 in c:\\users\\douglas brough\\miniconda3\\envs\\myenv\\lib\\site-packages (from voila) (6.1.0)\n",
      "Collecting websockets>=9.0\n",
      "  Downloading websockets-10.1-cp37-cp37m-win_amd64.whl (97 kB)\n",
      "Requirement already satisfied: nbclient<0.6,>=0.4.0 in c:\\users\\douglas brough\\miniconda3\\envs\\myenv\\lib\\site-packages (from voila) (0.5.3)\n",
      "Requirement already satisfied: python-dateutil>=2.1 in c:\\users\\douglas brough\\miniconda3\\envs\\myenv\\lib\\site-packages (from jupyter-client<8,>=6.1.3->voila) (2.8.2)\n",
      "Requirement already satisfied: traitlets in c:\\users\\douglas brough\\miniconda3\\envs\\myenv\\lib\\site-packages (from jupyter-client<8,>=6.1.3->voila) (5.1.0)\n",
      "Requirement already satisfied: jupyter-core>=4.6.0 in c:\\users\\douglas brough\\miniconda3\\envs\\myenv\\lib\\site-packages (from jupyter-client<8,>=6.1.3->voila) (4.8.1)\n",
      "Requirement already satisfied: tornado>=4.1 in c:\\users\\douglas brough\\miniconda3\\envs\\myenv\\lib\\site-packages (from jupyter-client<8,>=6.1.3->voila) (6.1)\n",
      "Requirement already satisfied: entrypoints in c:\\users\\douglas brough\\miniconda3\\envs\\myenv\\lib\\site-packages (from jupyter-client<8,>=6.1.3->voila) (0.3)\n",
      "Requirement already satisfied: pyzmq>=13 in c:\\users\\douglas brough\\miniconda3\\envs\\myenv\\lib\\site-packages (from jupyter-client<8,>=6.1.3->voila) (22.2.1)\n",
      "Requirement already satisfied: nest-asyncio>=1.5 in c:\\users\\douglas brough\\miniconda3\\envs\\myenv\\lib\\site-packages (from jupyter-client<8,>=6.1.3->voila) (1.5.1)\n",
      "Requirement already satisfied: pywin32>=1.0 in c:\\users\\douglas brough\\miniconda3\\envs\\myenv\\lib\\site-packages (from jupyter-core>=4.6.0->jupyter-client<8,>=6.1.3->voila) (228)\n",
      "Requirement already satisfied: prometheus-client in c:\\users\\douglas brough\\miniconda3\\envs\\myenv\\lib\\site-packages (from jupyter-server<2.0.0,>=0.3.0->voila) (0.11.0)\n",
      "Requirement already satisfied: Send2Trash in c:\\users\\douglas brough\\miniconda3\\envs\\myenv\\lib\\site-packages (from jupyter-server<2.0.0,>=0.3.0->voila) (1.8.0)\n",
      "Requirement already satisfied: terminado>=0.8.3 in c:\\users\\douglas brough\\miniconda3\\envs\\myenv\\lib\\site-packages (from jupyter-server<2.0.0,>=0.3.0->voila) (0.9.4)\n",
      "Collecting anyio<4,>=3.1.0\n",
      "  Downloading anyio-3.5.0-py3-none-any.whl (79 kB)\n",
      "Collecting websocket-client\n",
      "  Downloading websocket_client-1.2.3-py3-none-any.whl (53 kB)\n",
      "Requirement already satisfied: packaging in c:\\users\\douglas brough\\miniconda3\\envs\\myenv\\lib\\site-packages (from jupyter-server<2.0.0,>=0.3.0->voila) (21.0)\n",
      "Requirement already satisfied: argon2-cffi in c:\\users\\douglas brough\\miniconda3\\envs\\myenv\\lib\\site-packages (from jupyter-server<2.0.0,>=0.3.0->voila) (20.1.0)\n",
      "Requirement already satisfied: nbformat in c:\\users\\douglas brough\\miniconda3\\envs\\myenv\\lib\\site-packages (from jupyter-server<2.0.0,>=0.3.0->voila) (5.1.3)\n",
      "Requirement already satisfied: jinja2 in c:\\users\\douglas brough\\miniconda3\\envs\\myenv\\lib\\site-packages (from jupyter-server<2.0.0,>=0.3.0->voila) (3.0.2)\n",
      "Requirement already satisfied: ipython-genutils in c:\\users\\douglas brough\\miniconda3\\envs\\myenv\\lib\\site-packages (from jupyter-server<2.0.0,>=0.3.0->voila) (0.2.0)\n",
      "Requirement already satisfied: typing-extensions in c:\\users\\douglas brough\\miniconda3\\envs\\myenv\\lib\\site-packages (from anyio<4,>=3.1.0->jupyter-server<2.0.0,>=0.3.0->voila) (3.10.0.2)\n",
      "Requirement already satisfied: idna>=2.8 in c:\\users\\douglas brough\\miniconda3\\envs\\myenv\\lib\\site-packages (from anyio<4,>=3.1.0->jupyter-server<2.0.0,>=0.3.0->voila) (3.2)\n",
      "Collecting sniffio>=1.1\n",
      "  Downloading sniffio-1.2.0-py3-none-any.whl (10 kB)\n",
      "Requirement already satisfied: async-generator in c:\\users\\douglas brough\\miniconda3\\envs\\myenv\\lib\\site-packages (from nbclient<0.6,>=0.4.0->voila) (1.10)\n",
      "Requirement already satisfied: pandocfilters>=1.4.1 in c:\\users\\douglas brough\\miniconda3\\envs\\myenv\\lib\\site-packages (from nbconvert<7,>=6.0.0->voila) (1.4.3)\n",
      "Requirement already satisfied: jupyterlab-pygments in c:\\users\\douglas brough\\miniconda3\\envs\\myenv\\lib\\site-packages (from nbconvert<7,>=6.0.0->voila) (0.1.2)\n",
      "Requirement already satisfied: mistune<2,>=0.8.1 in c:\\users\\douglas brough\\miniconda3\\envs\\myenv\\lib\\site-packages (from nbconvert<7,>=6.0.0->voila) (0.8.4)\n",
      "Requirement already satisfied: pygments>=2.4.1 in c:\\users\\douglas brough\\miniconda3\\envs\\myenv\\lib\\site-packages (from nbconvert<7,>=6.0.0->voila) (2.10.0)\n",
      "Requirement already satisfied: testpath in c:\\users\\douglas brough\\miniconda3\\envs\\myenv\\lib\\site-packages (from nbconvert<7,>=6.0.0->voila) (0.5.0)\n",
      "Requirement already satisfied: bleach in c:\\users\\douglas brough\\miniconda3\\envs\\myenv\\lib\\site-packages (from nbconvert<7,>=6.0.0->voila) (4.0.0)\n",
      "Requirement already satisfied: defusedxml in c:\\users\\douglas brough\\miniconda3\\envs\\myenv\\lib\\site-packages (from nbconvert<7,>=6.0.0->voila) (0.7.1)\n",
      "Requirement already satisfied: MarkupSafe>=2.0 in c:\\users\\douglas brough\\miniconda3\\envs\\myenv\\lib\\site-packages (from jinja2->jupyter-server<2.0.0,>=0.3.0->voila) (2.0.1)\n",
      "Requirement already satisfied: jsonschema!=2.5.0,>=2.4 in c:\\users\\douglas brough\\miniconda3\\envs\\myenv\\lib\\site-packages (from nbformat->jupyter-server<2.0.0,>=0.3.0->voila) (3.2.0)\n",
      "Requirement already satisfied: six>=1.11.0 in c:\\users\\douglas brough\\miniconda3\\envs\\myenv\\lib\\site-packages (from jsonschema!=2.5.0,>=2.4->nbformat->jupyter-server<2.0.0,>=0.3.0->voila) (1.16.0)\n",
      "Requirement already satisfied: importlib-metadata in c:\\users\\douglas brough\\miniconda3\\envs\\myenv\\lib\\site-packages (from jsonschema!=2.5.0,>=2.4->nbformat->jupyter-server<2.0.0,>=0.3.0->voila) (4.8.1)\n",
      "Requirement already satisfied: attrs>=17.4.0 in c:\\users\\douglas brough\\miniconda3\\envs\\myenv\\lib\\site-packages (from jsonschema!=2.5.0,>=2.4->nbformat->jupyter-server<2.0.0,>=0.3.0->voila) (21.2.0)\n",
      "Requirement already satisfied: pyrsistent>=0.14.0 in c:\\users\\douglas brough\\miniconda3\\envs\\myenv\\lib\\site-packages (from jsonschema!=2.5.0,>=2.4->nbformat->jupyter-server<2.0.0,>=0.3.0->voila) (0.18.0)\n",
      "Requirement already satisfied: setuptools in c:\\users\\douglas brough\\miniconda3\\envs\\myenv\\lib\\site-packages (from jsonschema!=2.5.0,>=2.4->nbformat->jupyter-server<2.0.0,>=0.3.0->voila) (58.0.4)\n",
      "Requirement already satisfied: pywinpty>=0.5 in c:\\users\\douglas brough\\miniconda3\\envs\\myenv\\lib\\site-packages (from terminado>=0.8.3->jupyter-server<2.0.0,>=0.3.0->voila) (0.5.7)\n",
      "Requirement already satisfied: cffi>=1.0.0 in c:\\users\\douglas brough\\miniconda3\\envs\\myenv\\lib\\site-packages (from argon2-cffi->jupyter-server<2.0.0,>=0.3.0->voila) (1.14.6)\n",
      "Requirement already satisfied: pycparser in c:\\users\\douglas brough\\miniconda3\\envs\\myenv\\lib\\site-packages (from cffi>=1.0.0->argon2-cffi->jupyter-server<2.0.0,>=0.3.0->voila) (2.20)\n",
      "Requirement already satisfied: webencodings in c:\\users\\douglas brough\\miniconda3\\envs\\myenv\\lib\\site-packages (from bleach->nbconvert<7,>=6.0.0->voila) (0.5.1)\n",
      "Requirement already satisfied: zipp>=0.5 in c:\\users\\douglas brough\\miniconda3\\envs\\myenv\\lib\\site-packages (from importlib-metadata->jsonschema!=2.5.0,>=2.4->nbformat->jupyter-server<2.0.0,>=0.3.0->voila) (3.6.0)\n",
      "Requirement already satisfied: pyparsing>=2.0.2 in c:\\users\\douglas brough\\miniconda3\\envs\\myenv\\lib\\site-packages (from packaging->jupyter-server<2.0.0,>=0.3.0->voila) (3.0.4)\n",
      "Installing collected packages: sniffio, websocket-client, anyio, websockets, jupyter-server, voila\n",
      "Successfully installed anyio-3.5.0 jupyter-server-1.13.2 sniffio-1.2.0 voila-0.3.0 websocket-client-1.2.3 websockets-10.1\n",
      "Note: you may need to restart the kernel to use updated packages.\n"
     ]
    }
   ],
   "source": [
    "pip install voila"
   ]
  },
  {
   "cell_type": "code",
   "execution_count": 9,
   "metadata": {},
   "outputs": [
    {
     "ename": "KeyError",
     "evalue": "'Sheet1'",
     "output_type": "error",
     "traceback": [
      "\u001b[1;31m---------------------------------------------------------------------------\u001b[0m",
      "\u001b[1;31mKeyError\u001b[0m                                  Traceback (most recent call last)",
      "\u001b[1;32mC:\\Users\\DOUGLA~1\\AppData\\Local\\Temp/ipykernel_21656/3813434842.py\u001b[0m in \u001b[0;36m<module>\u001b[1;34m\u001b[0m\n\u001b[0;32m      2\u001b[0m \u001b[0mdf\u001b[0m\u001b[1;33m.\u001b[0m\u001b[0mto_excel\u001b[0m\u001b[1;33m(\u001b[0m\u001b[0mwriter\u001b[0m\u001b[1;33m,\u001b[0m \u001b[0msheet_name\u001b[0m\u001b[1;33m=\u001b[0m\u001b[1;34m\"Sheet\"\u001b[0m\u001b[1;33m,\u001b[0m \u001b[0mstartrow\u001b[0m\u001b[1;33m=\u001b[0m\u001b[1;36m2\u001b[0m\u001b[1;33m,\u001b[0m \u001b[0mindex\u001b[0m\u001b[1;33m=\u001b[0m\u001b[1;32mFalse\u001b[0m\u001b[1;33m)\u001b[0m\u001b[1;33m\u001b[0m\u001b[1;33m\u001b[0m\u001b[0m\n\u001b[0;32m      3\u001b[0m \u001b[0mworkbook\u001b[0m \u001b[1;33m=\u001b[0m \u001b[0mwriter\u001b[0m\u001b[1;33m.\u001b[0m\u001b[0mbook\u001b[0m\u001b[1;33m\u001b[0m\u001b[1;33m\u001b[0m\u001b[0m\n\u001b[1;32m----> 4\u001b[1;33m \u001b[0mworksheet\u001b[0m \u001b[1;33m=\u001b[0m \u001b[0mwriter\u001b[0m\u001b[1;33m.\u001b[0m\u001b[0msheets\u001b[0m\u001b[1;33m[\u001b[0m\u001b[1;34m'Sheet1'\u001b[0m\u001b[1;33m]\u001b[0m\u001b[1;33m\u001b[0m\u001b[1;33m\u001b[0m\u001b[0m\n\u001b[0m\u001b[0;32m      5\u001b[0m \u001b[1;33m\u001b[0m\u001b[0m\n",
      "\u001b[1;31mKeyError\u001b[0m: 'Sheet1'"
     ]
    }
   ],
   "source": [
    "\n",
    "\n"
   ]
  },
  {
   "cell_type": "code",
   "execution_count": null,
   "metadata": {},
   "outputs": [],
   "source": []
  }
 ],
 "metadata": {
  "interpreter": {
   "hash": "538fc63e7d632aae64835a1ee328e6b59c72f868925a555d789cd3b0b4631e27"
  },
  "kernelspec": {
   "display_name": "Python 3.7.11 64-bit ('myenv': conda)",
   "language": "python",
   "name": "python3"
  },
  "language_info": {
   "codemirror_mode": {
    "name": "ipython",
    "version": 3
   },
   "file_extension": ".py",
   "mimetype": "text/x-python",
   "name": "python",
   "nbconvert_exporter": "python",
   "pygments_lexer": "ipython3",
   "version": "3.7.11"
  },
  "orig_nbformat": 4
 },
 "nbformat": 4,
 "nbformat_minor": 2
}
